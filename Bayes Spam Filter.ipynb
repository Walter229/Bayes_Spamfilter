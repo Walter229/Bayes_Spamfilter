{
 "cells": [
  {
   "cell_type": "markdown",
   "metadata": {},
   "source": [
    "## Building a SMS Spam Filter algorith with Naive Bayes"
   ]
  },
  {
   "cell_type": "markdown",
   "metadata": {},
   "source": [
    "The goal of this project is to build a spam filter for sms messages using a Naive Bayes algorithm. The algorithm uses conditional probability to evaluate whether a new message is more likely to be spam or not. <br> \n",
    "The dataset is taken from the UCI Machine Learning repository and contains 5572 sms messages that are labeled as being spam or legitimate messages (ham)."
   ]
  },
  {
   "cell_type": "code",
   "execution_count": 1,
   "metadata": {},
   "outputs": [],
   "source": [
    "import pandas as pd\n",
    "# Read in dataset\n",
    "sms_data = pd.read_csv('SMSSpamCollection', sep='\\t', header = None, names=['Label', 'SMS'])"
   ]
  },
  {
   "cell_type": "markdown",
   "metadata": {},
   "source": [
    "### Descriptive statistics"
   ]
  },
  {
   "cell_type": "code",
   "execution_count": 3,
   "metadata": {},
   "outputs": [
    {
     "data": {
      "text/html": [
       "<div>\n",
       "<style scoped>\n",
       "    .dataframe tbody tr th:only-of-type {\n",
       "        vertical-align: middle;\n",
       "    }\n",
       "\n",
       "    .dataframe tbody tr th {\n",
       "        vertical-align: top;\n",
       "    }\n",
       "\n",
       "    .dataframe thead th {\n",
       "        text-align: right;\n",
       "    }\n",
       "</style>\n",
       "<table border=\"1\" class=\"dataframe\">\n",
       "  <thead>\n",
       "    <tr style=\"text-align: right;\">\n",
       "      <th></th>\n",
       "      <th>Label</th>\n",
       "      <th>SMS</th>\n",
       "    </tr>\n",
       "  </thead>\n",
       "  <tbody>\n",
       "    <tr>\n",
       "      <th>count</th>\n",
       "      <td>5572</td>\n",
       "      <td>5572</td>\n",
       "    </tr>\n",
       "    <tr>\n",
       "      <th>unique</th>\n",
       "      <td>2</td>\n",
       "      <td>5169</td>\n",
       "    </tr>\n",
       "    <tr>\n",
       "      <th>top</th>\n",
       "      <td>ham</td>\n",
       "      <td>Sorry, I'll call later</td>\n",
       "    </tr>\n",
       "    <tr>\n",
       "      <th>freq</th>\n",
       "      <td>4825</td>\n",
       "      <td>30</td>\n",
       "    </tr>\n",
       "  </tbody>\n",
       "</table>\n",
       "</div>"
      ],
      "text/plain": [
       "       Label                     SMS\n",
       "count   5572                    5572\n",
       "unique     2                    5169\n",
       "top      ham  Sorry, I'll call later\n",
       "freq    4825                      30"
      ]
     },
     "execution_count": 3,
     "metadata": {},
     "output_type": "execute_result"
    }
   ],
   "source": [
    "sms_data.describe()"
   ]
  },
  {
   "cell_type": "code",
   "execution_count": 4,
   "metadata": {},
   "outputs": [
    {
     "data": {
      "text/plain": [
       "ham     86.59\n",
       "spam    13.41\n",
       "Name: Label, dtype: float64"
      ]
     },
     "execution_count": 4,
     "metadata": {},
     "output_type": "execute_result"
    }
   ],
   "source": [
    "# Percent of spam vs. non-spam observations\n",
    "round((sms_data['Label'].value_counts()/len(sms_data)) * 100, 2)"
   ]
  },
  {
   "cell_type": "markdown",
   "metadata": {},
   "source": [
    "### Split dataset in training and test data"
   ]
  },
  {
   "cell_type": "code",
   "execution_count": 5,
   "metadata": {},
   "outputs": [],
   "source": [
    "# 80% train, 20% test data\n",
    "train = sms_data.sample(frac=0.8,random_state=1)\n",
    "test = sms_data.drop(train.index).sample(frac=1)\n",
    "\n",
    "train = train.reset_index(drop=True)\n",
    "test = test.reset_index(drop=True)"
   ]
  },
  {
   "cell_type": "code",
   "execution_count": 6,
   "metadata": {},
   "outputs": [
    {
     "name": "stdout",
     "output_type": "stream",
     "text": [
      "ham     0.86541\n",
      "spam    0.13459\n",
      "Name: Label, dtype: float64\n",
      "ham     0.868043\n",
      "spam    0.131957\n",
      "Name: Label, dtype: float64\n"
     ]
    }
   ],
   "source": [
    "# Check spam vs. non-spam distribution in train and test data\n",
    "print(train['Label'].value_counts()/len(train))\n",
    "\n",
    "print(test['Label'].value_counts()/len(test))"
   ]
  },
  {
   "cell_type": "markdown",
   "metadata": {},
   "source": [
    "Randomization did not significantly impact the distribution of the target variable"
   ]
  },
  {
   "cell_type": "markdown",
   "metadata": {},
   "source": [
    "## Data cleaning"
   ]
  },
  {
   "cell_type": "code",
   "execution_count": 7,
   "metadata": {},
   "outputs": [],
   "source": [
    "# Remove punctuation of sms messages\n",
    "train['SMS'] = train['SMS'].str.replace(r'[^\\w\\s]+', '')\n",
    "\n",
    "# Transform to lower case\n",
    "train['SMS'] = train['SMS'].str.lower() "
   ]
  },
  {
   "cell_type": "markdown",
   "metadata": {},
   "source": [
    "### Create wide format with columns for word count"
   ]
  },
  {
   "cell_type": "code",
   "execution_count": 8,
   "metadata": {},
   "outputs": [],
   "source": [
    "# Split SMS content by whitespace\n",
    "train['SMS'] = train['SMS'].str.split()\n",
    "\n",
    "# Create vocabulary list of unique words\n",
    "vocabulary = []\n",
    "for sms in train['SMS']:\n",
    "    for word in sms:\n",
    "        vocabulary.append(word)\n",
    "\n",
    "vocabulary = list(set(vocabulary))"
   ]
  },
  {
   "cell_type": "code",
   "execution_count": 9,
   "metadata": {},
   "outputs": [],
   "source": [
    "# Create dictionary of unique word count per SMS\n",
    "word_counts_per_sms = {unique_word: [0] * len(train['SMS']) for unique_word in vocabulary}\n",
    "for index, sms in enumerate(train['SMS']):\n",
    "    for word in sms:\n",
    "        word_counts_per_sms[word][index] += 1"
   ]
  },
  {
   "cell_type": "code",
   "execution_count": 10,
   "metadata": {},
   "outputs": [],
   "source": [
    "# Transform in Dataframe and combine with sms_data\n",
    "word_count_df = pd.DataFrame(word_counts_per_sms)\n",
    "sms_data_count = pd.concat([sms_data, word_count_df])"
   ]
  },
  {
   "cell_type": "markdown",
   "metadata": {},
   "source": [
    "## Set-up of Parameters"
   ]
  },
  {
   "cell_type": "code",
   "execution_count": 11,
   "metadata": {},
   "outputs": [],
   "source": [
    "# Set-up parameters\n",
    "n_spam = train['Label'].value_counts()['spam']\n",
    "n_ham = train['Label'].value_counts()['ham']\n",
    "n_vocabulary = len(vocabulary)\n",
    "alpha = 1\n",
    "\n",
    "p_spam = n_spam / len(train)\n",
    "p_ham = n_ham / len(train)"
   ]
  },
  {
   "cell_type": "code",
   "execution_count": 12,
   "metadata": {},
   "outputs": [
    {
     "name": "stderr",
     "output_type": "stream",
     "text": [
      "<ipython-input-12-8dbfa9e127dd>:8: DeprecationWarning: The default dtype for empty Series will be 'object' instead of 'float64' in a future version. Specify a dtype explicitly to silence this warning.\n",
      "  ham_count = ham_df['SMS'].apply(lambda x: pd.Series(x).value_counts()).sum().sort_values()\n"
     ]
    }
   ],
   "source": [
    "# Count number of word mentions in spam and in ham df\n",
    "spam_prob_dict = {unique_word: 0 for unique_word in vocabulary}\n",
    "ham_prob_dict = {unique_word: 0 for unique_word in vocabulary}\n",
    "\n",
    "spam_df = train.loc[train['Label'] == 'spam',]\n",
    "spam_count = spam_df['SMS'].apply(lambda x: pd.Series(x).value_counts()).sum().sort_values()\n",
    "ham_df = train.loc[train['Label'] == 'ham',]\n",
    "ham_count = ham_df['SMS'].apply(lambda x: pd.Series(x).value_counts()).sum().sort_values()"
   ]
  },
  {
   "cell_type": "markdown",
   "metadata": {},
   "source": [
    "#### Calculate conditional probabilities\n",
    "The probability for a message being spam given a certain word is calulated using Bayes' theorem:<br>\n",
    "<img src=\"bayes_theorem.png\" width=\"300\" height=\"200\"/>"
   ]
  },
  {
   "cell_type": "code",
   "execution_count": 13,
   "metadata": {},
   "outputs": [],
   "source": [
    "# Calculate conditional probabilities\n",
    "for word in vocabulary:\n",
    "    #Conditional probability: P(word|spam)\n",
    "    if word in spam_count:\n",
    "        n_word_spam = spam_count[word]\n",
    "    else:\n",
    "        n_word_spam = 0\n",
    "    p_word_spam = (n_word_spam + alpha) / (n_spam + alpha * n_vocabulary)\n",
    "    spam_prob_dict[word] = p_word_spam\n",
    "    \n",
    "    #Conditional probability: P(word|ham)\n",
    "    if word in ham_count:\n",
    "        n_word_ham = ham_count[word]\n",
    "    else:\n",
    "        n_word_ham = 0\n",
    "    p_word_ham = (n_word_ham + alpha) / (n_ham + alpha * n_vocabulary)\n",
    "    ham_prob_dict[word] = p_word_ham"
   ]
  },
  {
   "cell_type": "markdown",
   "metadata": {},
   "source": [
    "## Build Spam filter"
   ]
  },
  {
   "cell_type": "markdown",
   "metadata": {},
   "source": [
    "The spam filter takes a new message as an input, calculates the conditional probability for the message to be spam and classifies it accordingly. <br>\n",
    "The combining of individual word-spam probabilities per SMS is done with the following formula:<br>\n",
    "<img src=\"prob_updating.png\" width=\"400\" height=\"200\"/>\n"
   ]
  },
  {
   "cell_type": "code",
   "execution_count": 14,
   "metadata": {},
   "outputs": [],
   "source": [
    "import re\n",
    "def classify(message):\n",
    "    \n",
    "    message = re.sub('\\W', ' ', message)\n",
    "    message = message.lower()\n",
    "    message = message.split()\n",
    "    \n",
    "    # Initial probability\n",
    "    p_spam_given_message = p_spam\n",
    "    p_ham_given_message = p_ham\n",
    "    \n",
    "    # Update probability using probabilities for individual words\n",
    "    for word in message:\n",
    "        if word in spam_prob_dict:\n",
    "            p_spam_given_message *= spam_prob_dict[word]\n",
    "        if word in ham_prob_dict:\n",
    "            p_ham_given_message *= ham_prob_dict[word]\n",
    "\n",
    "    if p_ham_given_message > p_spam_given_message:\n",
    "        return 'ham'\n",
    "    elif p_ham_given_message < p_spam_given_message:\n",
    "        return 'spam'\n",
    "    else:\n",
    "        return 'needs human classification'"
   ]
  },
  {
   "cell_type": "markdown",
   "metadata": {},
   "source": [
    "### Test Spam filter"
   ]
  },
  {
   "cell_type": "code",
   "execution_count": 15,
   "metadata": {},
   "outputs": [
    {
     "data": {
      "text/html": [
       "<div>\n",
       "<style scoped>\n",
       "    .dataframe tbody tr th:only-of-type {\n",
       "        vertical-align: middle;\n",
       "    }\n",
       "\n",
       "    .dataframe tbody tr th {\n",
       "        vertical-align: top;\n",
       "    }\n",
       "\n",
       "    .dataframe thead th {\n",
       "        text-align: right;\n",
       "    }\n",
       "</style>\n",
       "<table border=\"1\" class=\"dataframe\">\n",
       "  <thead>\n",
       "    <tr style=\"text-align: right;\">\n",
       "      <th></th>\n",
       "      <th>Label</th>\n",
       "      <th>SMS</th>\n",
       "      <th>predicted</th>\n",
       "    </tr>\n",
       "  </thead>\n",
       "  <tbody>\n",
       "    <tr>\n",
       "      <th>0</th>\n",
       "      <td>spam</td>\n",
       "      <td>Your weekly Cool-Mob tones are ready to downlo...</td>\n",
       "      <td>ham</td>\n",
       "    </tr>\n",
       "    <tr>\n",
       "      <th>1</th>\n",
       "      <td>ham</td>\n",
       "      <td>I (Career Tel) have added u as a contact on IN...</td>\n",
       "      <td>ham</td>\n",
       "    </tr>\n",
       "    <tr>\n",
       "      <th>2</th>\n",
       "      <td>ham</td>\n",
       "      <td>CERI U REBEL! SWEET DREAMZ ME LITTLE BUDDY!! C...</td>\n",
       "      <td>ham</td>\n",
       "    </tr>\n",
       "    <tr>\n",
       "      <th>3</th>\n",
       "      <td>ham</td>\n",
       "      <td>Now u sound like manky scouse boy steve,like! ...</td>\n",
       "      <td>ham</td>\n",
       "    </tr>\n",
       "    <tr>\n",
       "      <th>4</th>\n",
       "      <td>ham</td>\n",
       "      <td>Sindu got job in birla soft ..</td>\n",
       "      <td>ham</td>\n",
       "    </tr>\n",
       "    <tr>\n",
       "      <th>5</th>\n",
       "      <td>ham</td>\n",
       "      <td>Goodmorning, today i am late for 2hrs. Because...</td>\n",
       "      <td>ham</td>\n",
       "    </tr>\n",
       "    <tr>\n",
       "      <th>6</th>\n",
       "      <td>ham</td>\n",
       "      <td>thanks for the temales it was wonderful. Thank...</td>\n",
       "      <td>ham</td>\n",
       "    </tr>\n",
       "    <tr>\n",
       "      <th>7</th>\n",
       "      <td>ham</td>\n",
       "      <td>I went to project centre</td>\n",
       "      <td>ham</td>\n",
       "    </tr>\n",
       "    <tr>\n",
       "      <th>8</th>\n",
       "      <td>ham</td>\n",
       "      <td>Do you think i can move  &amp;lt;#&amp;gt;  in a week</td>\n",
       "      <td>ham</td>\n",
       "    </tr>\n",
       "    <tr>\n",
       "      <th>9</th>\n",
       "      <td>ham</td>\n",
       "      <td>Ok. But i finish at 6.</td>\n",
       "      <td>ham</td>\n",
       "    </tr>\n",
       "  </tbody>\n",
       "</table>\n",
       "</div>"
      ],
      "text/plain": [
       "  Label                                                SMS predicted\n",
       "0  spam  Your weekly Cool-Mob tones are ready to downlo...       ham\n",
       "1   ham  I (Career Tel) have added u as a contact on IN...       ham\n",
       "2   ham  CERI U REBEL! SWEET DREAMZ ME LITTLE BUDDY!! C...       ham\n",
       "3   ham  Now u sound like manky scouse boy steve,like! ...       ham\n",
       "4   ham                     Sindu got job in birla soft ..       ham\n",
       "5   ham  Goodmorning, today i am late for 2hrs. Because...       ham\n",
       "6   ham  thanks for the temales it was wonderful. Thank...       ham\n",
       "7   ham                           I went to project centre       ham\n",
       "8   ham      Do you think i can move  &lt;#&gt;  in a week       ham\n",
       "9   ham                             Ok. But i finish at 6.       ham"
      ]
     },
     "execution_count": 15,
     "metadata": {},
     "output_type": "execute_result"
    }
   ],
   "source": [
    "test['predicted'] = test['SMS'].apply(classify)\n",
    "test.head(10)"
   ]
  },
  {
   "cell_type": "code",
   "execution_count": 16,
   "metadata": {},
   "outputs": [
    {
     "data": {
      "text/plain": [
       "ham     0.906643\n",
       "spam    0.093357\n",
       "Name: predicted, dtype: float64"
      ]
     },
     "execution_count": 16,
     "metadata": {},
     "output_type": "execute_result"
    }
   ],
   "source": [
    "test['predicted'].value_counts()/len(test)"
   ]
  },
  {
   "cell_type": "markdown",
   "metadata": {},
   "source": [
    "#### Accuracy of the classification"
   ]
  },
  {
   "cell_type": "code",
   "execution_count": 17,
   "metadata": {},
   "outputs": [
    {
     "name": "stdout",
     "output_type": "stream",
     "text": [
      "Accuracy: 0.9596\n"
     ]
    }
   ],
   "source": [
    "total = len(test)\n",
    "correct = len(test.loc[test['Label'] == test['predicted'],])\n",
    "accuracy = correct/total\n",
    "print(f'Accuracy: {round(accuracy,4)}')"
   ]
  },
  {
   "cell_type": "markdown",
   "metadata": {},
   "source": [
    "#### Specificity & Sensitivity of the classifcation"
   ]
  },
  {
   "cell_type": "code",
   "execution_count": 20,
   "metadata": {},
   "outputs": [
    {
     "name": "stdout",
     "output_type": "stream",
     "text": [
      "Sensitivity: 0.9904\n",
      "Specificity: 0.9564\n"
     ]
    }
   ],
   "source": [
    "true_pos = len(test.loc[(test['Label'] == 'spam') & (test['predicted'] == 'spam'),])\n",
    "false_pos = len(test.loc[(test['Label'] == 'spam') & (test['predicted'] == 'ham'),])\n",
    "true_neg = len(test.loc[(test['Label'] == 'ham') & (test['predicted'] == 'ham'),])\n",
    "false_neg = len(test.loc[(test['Label'] == 'ham') & (test['predicted'] == 'spam'),])\n",
    "\n",
    "sensitivity = true_pos / (true_pos + false_neg)\n",
    "specificity = true_neg / (true_neg + false_pos)\n",
    "print(f'Sensitivity: {round(sensitivity,4)}')\n",
    "print(f'Specificity: {round(specificity,4)}')"
   ]
  },
  {
   "cell_type": "markdown",
   "metadata": {},
   "source": [
    "## Discussion"
   ]
  },
  {
   "cell_type": "markdown",
   "metadata": {},
   "source": [
    "#### Performance\n",
    "The spam filter using a Naive Bayes algorithm performs quite good on the test set. It classifies over 95% of messages correctly and has a very high sensitivity of over 99%, thus detecting almost all spam messages. It does so, while still having a high specificity, correctly classifying over 95% of all non-spam messages."
   ]
  },
  {
   "cell_type": "markdown",
   "metadata": {},
   "source": [
    "#### Limitations\n",
    "The spam filter is based on a rather small sample and would obviously benefit from a larger training dataset. The training data should ideally containg a large variety of different SMS sources to get a more representative picture of non-spam as well as spam messages. <br>\n",
    "Naive Bayes spam filters are also susceptible to Bayesian poisoning - a technique where a spammer includes a large amount of legitimate text to improve the messages spam-score."
   ]
  }
 ],
 "metadata": {
  "kernelspec": {
   "display_name": "Python 3",
   "language": "python",
   "name": "python3"
  },
  "language_info": {
   "codemirror_mode": {
    "name": "ipython",
    "version": 3
   },
   "file_extension": ".py",
   "mimetype": "text/x-python",
   "name": "python",
   "nbconvert_exporter": "python",
   "pygments_lexer": "ipython3",
   "version": "3.8.5"
  }
 },
 "nbformat": 4,
 "nbformat_minor": 4
}
